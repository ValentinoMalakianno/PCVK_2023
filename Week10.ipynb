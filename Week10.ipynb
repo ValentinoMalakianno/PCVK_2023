{
  "nbformat": 4,
  "nbformat_minor": 0,
  "metadata": {
    "colab": {
      "provenance": [],
      "authorship_tag": "ABX9TyN+5R5TWJ6AdW3FakC9ERiZ",
      "include_colab_link": true
    },
    "kernelspec": {
      "name": "python3",
      "display_name": "Python 3"
    },
    "language_info": {
      "name": "python"
    }
  },
  "cells": [
    {
      "cell_type": "markdown",
      "metadata": {
        "id": "view-in-github",
        "colab_type": "text"
      },
      "source": [
        "<a href=\"https://colab.research.google.com/github/ValentinoMalakianno/PCVK_2023/blob/main/Week10.ipynb\" target=\"_parent\"><img src=\"https://colab.research.google.com/assets/colab-badge.svg\" alt=\"Open In Colab\"/></a>"
      ]
    },
    {
      "cell_type": "markdown",
      "source": [
        "### **Valentino Malakianno**\n",
        "### **3G**\n",
        "### **2141720099**\n",
        "### **MODUL 10 – Thresholding, Segmentasi Sederhana**"
      ],
      "metadata": {
        "id": "BEvqQFlcSzWS"
      }
    },
    {
      "cell_type": "code",
      "execution_count": null,
      "metadata": {
        "id": "Fu6z3zF-SxlS"
      },
      "outputs": [],
      "source": []
    }
  ]
}